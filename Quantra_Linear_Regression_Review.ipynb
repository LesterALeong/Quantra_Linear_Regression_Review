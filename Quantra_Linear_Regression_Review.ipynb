{
  "nbformat": 4,
  "nbformat_minor": 0,
  "metadata": {
    "kernelspec": {
      "display_name": "Python 3 (ipykernel)",
      "language": "python",
      "name": "python3"
    },
    "language_info": {
      "codemirror_mode": {
        "name": "ipython",
        "version": 3
      },
      "file_extension": ".py",
      "mimetype": "text/x-python",
      "name": "python",
      "nbconvert_exporter": "python",
      "pygments_lexer": "ipython3",
      "version": "3.9.5"
    },
    "colab": {
      "name": "Quantra Linear Regression Review.ipynb",
      "provenance": [],
      "collapsed_sections": []
    }
  },
  "cells": [
    {
      "cell_type": "markdown",
      "metadata": {
        "id": "PULulbmruMi2"
      },
      "source": [
        "## Machine Learning Regression Strategy Code\n",
        "\n",
        "We will implement a linear regression model that will predict the Day's High and Day's Low given its Day's Open. The key steps are:\n",
        "1. Read stock data\n",
        "2. Create X and y datasets\n",
        "4. Preprocess the Data\n",
        "5. Apply cross-validation\n",
        "6. Split test and train data\n",
        "7. Predict the High-Low Prices\n",
        "8. Calculate Strategy returns\n",
        "9. Analyse the performance\n",
        "\n",
        "## Import the libraries"
      ]
    },
    {
      "cell_type": "code",
      "metadata": {
        "colab": {
          "base_uri": "https://localhost:8080/"
        },
        "id": "a2G_EoJVuyNZ",
        "outputId": "5afb83a4-1f11-4e91-9c2e-b0aecabe3f87"
      },
      "source": [
        "!pip install yfinance"
      ],
      "execution_count": 21,
      "outputs": [
        {
          "output_type": "stream",
          "text": [
            "Requirement already satisfied: yfinance in /usr/local/lib/python3.7/dist-packages (0.1.63)\n",
            "Requirement already satisfied: multitasking>=0.0.7 in /usr/local/lib/python3.7/dist-packages (from yfinance) (0.0.9)\n",
            "Requirement already satisfied: numpy>=1.15 in /usr/local/lib/python3.7/dist-packages (from yfinance) (1.19.5)\n",
            "Requirement already satisfied: pandas>=0.24 in /usr/local/lib/python3.7/dist-packages (from yfinance) (1.1.5)\n",
            "Requirement already satisfied: lxml>=4.5.1 in /usr/local/lib/python3.7/dist-packages (from yfinance) (4.6.3)\n",
            "Requirement already satisfied: requests>=2.20 in /usr/local/lib/python3.7/dist-packages (from yfinance) (2.23.0)\n",
            "Requirement already satisfied: python-dateutil>=2.7.3 in /usr/local/lib/python3.7/dist-packages (from pandas>=0.24->yfinance) (2.8.1)\n",
            "Requirement already satisfied: pytz>=2017.2 in /usr/local/lib/python3.7/dist-packages (from pandas>=0.24->yfinance) (2018.9)\n",
            "Requirement already satisfied: six>=1.5 in /usr/local/lib/python3.7/dist-packages (from python-dateutil>=2.7.3->pandas>=0.24->yfinance) (1.15.0)\n",
            "Requirement already satisfied: chardet<4,>=3.0.2 in /usr/local/lib/python3.7/dist-packages (from requests>=2.20->yfinance) (3.0.4)\n",
            "Requirement already satisfied: idna<3,>=2.5 in /usr/local/lib/python3.7/dist-packages (from requests>=2.20->yfinance) (2.10)\n",
            "Requirement already satisfied: certifi>=2017.4.17 in /usr/local/lib/python3.7/dist-packages (from requests>=2.20->yfinance) (2021.5.30)\n",
            "Requirement already satisfied: urllib3!=1.25.0,!=1.25.1,<1.26,>=1.21.1 in /usr/local/lib/python3.7/dist-packages (from requests>=2.20->yfinance) (1.24.3)\n"
          ],
          "name": "stdout"
        }
      ]
    },
    {
      "cell_type": "code",
      "metadata": {
        "id": "cOpKk6YyuMi3"
      },
      "source": [
        "# Machine learning libraries\n",
        "from sklearn.linear_model import LinearRegression\n",
        "from sklearn.preprocessing import StandardScaler\n",
        "from sklearn.impute import SimpleImputer\n",
        "from sklearn.model_selection import RandomizedSearchCV\n",
        "from sklearn.pipeline import Pipeline\n",
        "\n",
        "# Data manipulation\n",
        "import pandas as pd\n",
        "import numpy as np\n",
        "import yfinance as yf\n",
        "\n",
        "# Plotting\n",
        "import matplotlib.pyplot as plt"
      ],
      "execution_count": 22,
      "outputs": []
    },
    {
      "cell_type": "markdown",
      "metadata": {
        "id": "Du_iinqMuMi4"
      },
      "source": [
        "## Read EBS data\n",
        "\n",
        "We have saved the OHLC Emergent Biosolutions Inc (EBS) stock data from Yahoo Finance."
      ]
    },
    {
      "cell_type": "code",
      "metadata": {
        "colab": {
          "base_uri": "https://localhost:8080/",
          "height": 338
        },
        "id": "3yLX6dyRuMi5",
        "outputId": "841aead4-faa4-4d4b-bd7c-b87082b5f506"
      },
      "source": [
        "# Gather\n",
        "stock = 'EBS'\n",
        "Df = yf.download(stock, '2017-01-01')\n",
        "\n",
        "# Plot the closing price\n",
        "Df.Close.plot(figsize=(10, 5))\n",
        "plt.ylabel(\"Close Price\")\n",
        "plt.show()"
      ],
      "execution_count": 23,
      "outputs": [
        {
          "output_type": "stream",
          "text": [
            "\r[*********************100%***********************]  1 of 1 completed\n"
          ],
          "name": "stdout"
        },
        {
          "output_type": "display_data",
          "data": {
            "image/png": "[encoded data removed]",
            "text/plain": [
              "<Figure size 720x360 with 1 Axes>"
            ]
          },
          "metadata": {
            "tags": [],
            "needs_background": "light"
          }
        }
      ]
    },
    {
      "cell_type": "markdown",
      "metadata": {
        "id": "QKcusO3tuMi6"
      },
      "source": [
        "## Create input parameters\n",
        "\n",
        "We will create custom indicators, which will help in making the prediction more accurate. \n",
        "\n",
        "We will compute the moving average of EBS for 3, 15 and 60 days and store it in S_3, S_15, and S_60, respectively. Then, we will compute the correlation between the closing price and 3 days moving average and store it in Corr. Next, we will compute the difference between High & Open, Open & Low, Open & previous day's Open, and Open & previous day's Close and store it in Std_U, Std_D, OD, and OL, respectively."
      ]
    },
    {
      "cell_type": "code",
      "metadata": {
        "colab": {
          "base_uri": "https://localhost:8080/",
          "height": 357
        },
        "id": "Dnintb3tuMi7",
        "outputId": "2c4e9ea2-8ae2-4b44-9f4e-5f5c55dd4214"
      },
      "source": [
        "# Calculate 3-day moving average of close prices\n",
        "Df['S_3'] = Df['Close'].shift(1).rolling(window=3).mean()\n",
        "\n",
        "# Calculate 15-day moving average of close prices\n",
        "Df['S_15'] = Df['Close'].shift(1).rolling(window=15).mean()\n",
        "\n",
        "# Calculate 60-day moving average of close prices\n",
        "Df['S_60'] = Df['Close'].shift(1).rolling(window=60).mean()\n",
        "\n",
        "# Calculate the correlation between close price and 3 day moving average\n",
        "Df['Corr'] = Df['Close'].shift(1).rolling(window=10).corr(Df['S_3'].shift(1))\n",
        "\n",
        "Df['Std_U'] = Df['High']-Df['Open']\n",
        "Df['Std_D'] = Df['Open']-Df['Low']\n",
        "\n",
        "Df['OD'] = Df['Open']-Df['Open'].shift(1)\n",
        "Df['OL'] = Df['Open']-Df['Close'].shift(1)\n",
        "\n",
        "Df.tail()"
      ],
      "execution_count": 24,
      "outputs": [
        {
          "output_type": "execute_result",
          "data": {
            "text/html": [
              "<div>\n",
              "<style scoped>\n",
              "    .dataframe tbody tr th:only-of-type {\n",
              "        vertical-align: middle;\n",
              "    }\n",
              "\n",
              "    .dataframe tbody tr th {\n",
              "        vertical-align: top;\n",
              "    }\n",
              "\n",
              "    .dataframe thead th {\n",
              "        text-align: right;\n",
              "    }\n",
              "</style>\n",
              "<table border=\"1\" class=\"dataframe\">\n",
              "  <thead>\n",
              "    <tr style=\"text-align: right;\">\n",
              "      <th></th>\n",
              "      <th>Open</th>\n",
              "      <th>High</th>\n",
              "      <th>Low</th>\n",
              "      <th>Close</th>\n",
              "      <th>Adj Close</th>\n",
              "      <th>Volume</th>\n",
              "      <th>S_3</th>\n",
              "      <th>S_15</th>\n",
              "      <th>S_60</th>\n",
              "      <th>Corr</th>\n",
              "      <th>Std_U</th>\n",
              "      <th>Std_D</th>\n",
              "      <th>OD</th>\n",
              "      <th>OL</th>\n",
              "    </tr>\n",
              "    <tr>\n",
              "      <th>Date</th>\n",
              "      <th></th>\n",
              "      <th></th>\n",
              "      <th></th>\n",
              "      <th></th>\n",
              "      <th></th>\n",
              "      <th></th>\n",
              "      <th></th>\n",
              "      <th></th>\n",
              "      <th></th>\n",
              "      <th></th>\n",
              "      <th></th>\n",
              "      <th></th>\n",
              "      <th></th>\n",
              "      <th></th>\n",
              "    </tr>\n",
              "  </thead>\n",
              "  <tbody>\n",
              "    <tr>\n",
              "      <th>2021-07-21</th>\n",
              "      <td>65.250000</td>\n",
              "      <td>66.180000</td>\n",
              "      <td>63.730000</td>\n",
              "      <td>66.050003</td>\n",
              "      <td>66.050003</td>\n",
              "      <td>672100</td>\n",
              "      <td>63.743334</td>\n",
              "      <td>61.674000</td>\n",
              "      <td>61.209833</td>\n",
              "      <td>0.296373</td>\n",
              "      <td>0.930000</td>\n",
              "      <td>1.520000</td>\n",
              "      <td>1.560001</td>\n",
              "      <td>0.129997</td>\n",
              "    </tr>\n",
              "    <tr>\n",
              "      <th>2021-07-22</th>\n",
              "      <td>65.699997</td>\n",
              "      <td>66.279999</td>\n",
              "      <td>63.549999</td>\n",
              "      <td>63.650002</td>\n",
              "      <td>63.650002</td>\n",
              "      <td>284800</td>\n",
              "      <td>64.950002</td>\n",
              "      <td>61.810667</td>\n",
              "      <td>61.244166</td>\n",
              "      <td>0.568760</td>\n",
              "      <td>0.580002</td>\n",
              "      <td>2.149998</td>\n",
              "      <td>0.449997</td>\n",
              "      <td>-0.350006</td>\n",
              "    </tr>\n",
              "    <tr>\n",
              "      <th>2021-07-23</th>\n",
              "      <td>64.389999</td>\n",
              "      <td>64.699997</td>\n",
              "      <td>63.770000</td>\n",
              "      <td>64.389999</td>\n",
              "      <td>64.389999</td>\n",
              "      <td>234800</td>\n",
              "      <td>64.940002</td>\n",
              "      <td>61.854667</td>\n",
              "      <td>61.242500</td>\n",
              "      <td>0.691662</td>\n",
              "      <td>0.309998</td>\n",
              "      <td>0.619999</td>\n",
              "      <td>-1.309998</td>\n",
              "      <td>0.739998</td>\n",
              "    </tr>\n",
              "    <tr>\n",
              "      <th>2021-07-26</th>\n",
              "      <td>64.389999</td>\n",
              "      <td>64.389999</td>\n",
              "      <td>62.160000</td>\n",
              "      <td>62.369999</td>\n",
              "      <td>62.369999</td>\n",
              "      <td>238600</td>\n",
              "      <td>64.696668</td>\n",
              "      <td>61.878667</td>\n",
              "      <td>61.281500</td>\n",
              "      <td>0.717472</td>\n",
              "      <td>0.000000</td>\n",
              "      <td>2.230000</td>\n",
              "      <td>0.000000</td>\n",
              "      <td>0.000000</td>\n",
              "    </tr>\n",
              "    <tr>\n",
              "      <th>2021-07-27</th>\n",
              "      <td>61.779999</td>\n",
              "      <td>62.775002</td>\n",
              "      <td>60.814999</td>\n",
              "      <td>62.709999</td>\n",
              "      <td>62.709999</td>\n",
              "      <td>305504</td>\n",
              "      <td>63.470000</td>\n",
              "      <td>61.786000</td>\n",
              "      <td>61.268500</td>\n",
              "      <td>0.650608</td>\n",
              "      <td>0.995003</td>\n",
              "      <td>0.965000</td>\n",
              "      <td>-2.610001</td>\n",
              "      <td>-0.590000</td>\n",
              "    </tr>\n",
              "  </tbody>\n",
              "</table>\n",
              "</div>"
            ],
            "text/plain": [
              "                 Open       High        Low  ...     Std_D        OD        OL\n",
              "Date                                         ...                              \n",
              "2021-07-21  65.250000  66.180000  63.730000  ...  1.520000  1.560001  0.129997\n",
              "2021-07-22  65.699997  66.279999  63.549999  ...  2.149998  0.449997 -0.350006\n",
              "2021-07-23  64.389999  64.699997  63.770000  ...  0.619999 -1.309998  0.739998\n",
              "2021-07-26  64.389999  64.389999  62.160000  ...  2.230000  0.000000  0.000000\n",
              "2021-07-27  61.779999  62.775002  60.814999  ...  0.965000 -2.610001 -0.590000\n",
              "\n",
              "[5 rows x 14 columns]"
            ]
          },
          "metadata": {
            "tags": []
          },
          "execution_count": 24
        }
      ]
    },
    {
      "cell_type": "markdown",
      "metadata": {
        "id": "zT7UXbJouMi8"
      },
      "source": [
        "## Create X and y datasets\n",
        "\n",
        "A machine learning model's accuracy in making predictions depends on the kind of data provided to it.  \n",
        "We will create an input dataset X and output datasets yU and yD for feeding into the linear regression model we are looking to build."
      ]
    },
    {
      "cell_type": "code",
      "metadata": {
        "colab": {
          "base_uri": "https://localhost:8080/",
          "height": 235
        },
        "id": "NKz4dVc7uMi9",
        "outputId": "d46900f1-f5f8-409c-d9c0-e8269821d2d9"
      },
      "source": [
        "X = Df[['Open', 'S_3', 'S_15', 'S_60', 'OD', 'OL', 'Corr']]\n",
        "X.tail()"
      ],
      "execution_count": 25,
      "outputs": [
        {
          "output_type": "execute_result",
          "data": {
            "text/html": [
              "<div>\n",
              "<style scoped>\n",
              "    .dataframe tbody tr th:only-of-type {\n",
              "        vertical-align: middle;\n",
              "    }\n",
              "\n",
              "    .dataframe tbody tr th {\n",
              "        vertical-align: top;\n",
              "    }\n",
              "\n",
              "    .dataframe thead th {\n",
              "        text-align: right;\n",
              "    }\n",
              "</style>\n",
              "<table border=\"1\" class=\"dataframe\">\n",
              "  <thead>\n",
              "    <tr style=\"text-align: right;\">\n",
              "      <th></th>\n",
              "      <th>Open</th>\n",
              "      <th>S_3</th>\n",
              "      <th>S_15</th>\n",
              "      <th>S_60</th>\n",
              "      <th>OD</th>\n",
              "      <th>OL</th>\n",
              "      <th>Corr</th>\n",
              "    </tr>\n",
              "    <tr>\n",
              "      <th>Date</th>\n",
              "      <th></th>\n",
              "      <th></th>\n",
              "      <th></th>\n",
              "      <th></th>\n",
              "      <th></th>\n",
              "      <th></th>\n",
              "      <th></th>\n",
              "    </tr>\n",
              "  </thead>\n",
              "  <tbody>\n",
              "    <tr>\n",
              "      <th>2021-07-21</th>\n",
              "      <td>65.250000</td>\n",
              "      <td>63.743334</td>\n",
              "      <td>61.674000</td>\n",
              "      <td>61.209833</td>\n",
              "      <td>1.560001</td>\n",
              "      <td>0.129997</td>\n",
              "      <td>0.296373</td>\n",
              "    </tr>\n",
              "    <tr>\n",
              "      <th>2021-07-22</th>\n",
              "      <td>65.699997</td>\n",
              "      <td>64.950002</td>\n",
              "      <td>61.810667</td>\n",
              "      <td>61.244166</td>\n",
              "      <td>0.449997</td>\n",
              "      <td>-0.350006</td>\n",
              "      <td>0.568760</td>\n",
              "    </tr>\n",
              "    <tr>\n",
              "      <th>2021-07-23</th>\n",
              "      <td>64.389999</td>\n",
              "      <td>64.940002</td>\n",
              "      <td>61.854667</td>\n",
              "      <td>61.242500</td>\n",
              "      <td>-1.309998</td>\n",
              "      <td>0.739998</td>\n",
              "      <td>0.691662</td>\n",
              "    </tr>\n",
              "    <tr>\n",
              "      <th>2021-07-26</th>\n",
              "      <td>64.389999</td>\n",
              "      <td>64.696668</td>\n",
              "      <td>61.878667</td>\n",
              "      <td>61.281500</td>\n",
              "      <td>0.000000</td>\n",
              "      <td>0.000000</td>\n",
              "      <td>0.717472</td>\n",
              "    </tr>\n",
              "    <tr>\n",
              "      <th>2021-07-27</th>\n",
              "      <td>61.779999</td>\n",
              "      <td>63.470000</td>\n",
              "      <td>61.786000</td>\n",
              "      <td>61.268500</td>\n",
              "      <td>-2.610001</td>\n",
              "      <td>-0.590000</td>\n",
              "      <td>0.650608</td>\n",
              "    </tr>\n",
              "  </tbody>\n",
              "</table>\n",
              "</div>"
            ],
            "text/plain": [
              "                 Open        S_3       S_15  ...        OD        OL      Corr\n",
              "Date                                         ...                              \n",
              "2021-07-21  65.250000  63.743334  61.674000  ...  1.560001  0.129997  0.296373\n",
              "2021-07-22  65.699997  64.950002  61.810667  ...  0.449997 -0.350006  0.568760\n",
              "2021-07-23  64.389999  64.940002  61.854667  ... -1.309998  0.739998  0.691662\n",
              "2021-07-26  64.389999  64.696668  61.878667  ...  0.000000  0.000000  0.717472\n",
              "2021-07-27  61.779999  63.470000  61.786000  ... -2.610001 -0.590000  0.650608\n",
              "\n",
              "[5 rows x 7 columns]"
            ]
          },
          "metadata": {
            "tags": []
          },
          "execution_count": 25
        }
      ]
    },
    {
      "cell_type": "code",
      "metadata": {
        "colab": {
          "base_uri": "https://localhost:8080/"
        },
        "id": "nJ75lQ-HuMi-",
        "outputId": "c56fc655-95fd-4885-9dc1-d09ea077e026"
      },
      "source": [
        "yU = Df['Std_U']\n",
        "yU.tail()"
      ],
      "execution_count": 26,
      "outputs": [
        {
          "output_type": "execute_result",
          "data": {
            "text/plain": [
              "Date\n",
              "2021-07-21    0.930000\n",
              "2021-07-22    0.580002\n",
              "2021-07-23    0.309998\n",
              "2021-07-26    0.000000\n",
              "2021-07-27    0.995003\n",
              "Name: Std_U, dtype: float64"
            ]
          },
          "metadata": {
            "tags": []
          },
          "execution_count": 26
        }
      ]
    },
    {
      "cell_type": "code",
      "metadata": {
        "colab": {
          "base_uri": "https://localhost:8080/"
        },
        "id": "mn0Q9Q4euMi-",
        "outputId": "549316c3-6b32-4a8a-9046-d743ade04a78"
      },
      "source": [
        "yD = Df['Std_D']\n",
        "yD.tail()"
      ],
      "execution_count": 27,
      "outputs": [
        {
          "output_type": "execute_result",
          "data": {
            "text/plain": [
              "Date\n",
              "2021-07-21    1.520000\n",
              "2021-07-22    2.149998\n",
              "2021-07-23    0.619999\n",
              "2021-07-26    2.230000\n",
              "2021-07-27    0.965000\n",
              "Name: Std_D, dtype: float64"
            ]
          },
          "metadata": {
            "tags": []
          },
          "execution_count": 27
        }
      ]
    },
    {
      "cell_type": "markdown",
      "metadata": {
        "id": "hcNugimuuMi_"
      },
      "source": [
        "## Pipeline\n",
        "\n",
        "In a machine learning model, there are many tasks that must be executed in sequential order. For this reason, we define a list containing tuples that specify the algo tasks given in the order of execution.\n",
        "\n",
        "Specify in the steps a list of (name, transform) tuples. The 'name' is the variable name given to the task and 'transform' is the function used to perform the task. Then, sequentially apply a list of transforms specified in steps using the pipeline.\n",
        "\n",
        "Syntax: \n",
        "```python\n",
        "steps = [(name_1,transform_1), (name_2,transform_2),........(name_n,transform_n)]\n",
        "Pipeline(steps)\n",
        "```\n",
        "\n",
        "## Data preprocessing\n",
        "In a machine learning model, it is essential to feed the model with preprocessed data. Raw data contains many errors, and using such data will result in inconsistent and erroneous results. \n",
        "\n",
        "### Imputer\n",
        "We instantiate the imputer function, which helps in identifying and replacing missing values. One might think it would be easy to drop the NaN values and then make the prediction based on the rest of the dataset. This will lead to losing out on the information provided by the non-NaN values in other parameters. To tackle this problem, we will be using the imputer function.\n",
        "\n",
        "The imputer function takes the first argument as the type of missing value to be replaced. In this case, we have represented NaN in this field, as we are looking to replace the non-numerical values. The following argument to be entered is the strategy to be used for replacing the NaN values. We could either choose the mean, median or most frequent value of the dataset.\n",
        "\n",
        "### Scaling\n",
        "Suppose a feature has a variance of an order of magnitude larger than that of the other features. In that case, it might dominate the objective function and make the estimator unable to learn from other features correctly as expected. To achieve this, we call the Standard Scaler function."
      ]
    },
    {
      "cell_type": "code",
      "metadata": {
        "id": "Y0O5QV7vuMjA"
      },
      "source": [
        "imp = SimpleImputer(missing_values = np.nan, strategy='most_frequent')\n",
        "steps = [('imputation', imp),\n",
        "         ('scaler',StandardScaler()),\n",
        "         ('linear',LinearRegression())]     \n",
        "pipeline = Pipeline(steps)"
      ],
      "execution_count": 28,
      "outputs": []
    },
    {
      "cell_type": "markdown",
      "metadata": {
        "id": "UcTajfbauMjB"
      },
      "source": [
        "## Hyperparameters\n",
        "\n",
        "There are some parameters that the model itself cannot estimate, but we still need to account for them as they play a crucial role in increasing the performance of the system. Such parameters are called hyperparameters. Hear, including the intercept term in our calculations is something that we have chosen as the hyperparameter. You can add more hyperparameters to tune the algo."
      ]
    },
    {
      "cell_type": "code",
      "metadata": {
        "id": "CZ64Xjn_uMjB"
      },
      "source": [
        "parameters = {'linear__fit_intercept':[0,1]}"
      ],
      "execution_count": 29,
      "outputs": []
    },
    {
      "cell_type": "markdown",
      "metadata": {
        "id": "UCY4ZOH6uMjB"
      },
      "source": [
        "## Random search cross-validation\n",
        "Cross-validation indicates the model’s performance in a practical situation. Cross-validation aims to test the model during the training phase to tackle problems like overfitting and give an insight into how the model will generalize to an independent dataset. We will use the `GridSearchCV` function, which is an inbuilt function for running cross-validation.\n",
        "\n",
        "We have set `cv=5`, which implies that the grid search will consider 5 rounds of cross-validation for averaging the performance results."
      ]
    },
    {
      "cell_type": "code",
      "metadata": {
        "id": "qLp1wRuVuMjC"
      },
      "source": [
        "reg = RandomizedSearchCV(pipeline, parameters, cv=5)"
      ],
      "execution_count": 30,
      "outputs": []
    },
    {
      "cell_type": "markdown",
      "metadata": {
        "id": "JL2c74u_uMjC"
      },
      "source": [
        "## Split test and train data\n",
        "\n",
        "Now, we will split data into train and test data set. \n",
        "\n",
        "1. First, 80% of data is used for training and the remaining data for testing.\n",
        "2. Fit the training data to a grid search function."
      ]
    },
    {
      "cell_type": "code",
      "metadata": {
        "colab": {
          "base_uri": "https://localhost:8080/"
        },
        "id": "hIh8RfCMuMjC",
        "outputId": "bebcbf87-a777-4147-bef2-33e6e2f049e8"
      },
      "source": [
        "t = .8\n",
        "split = int(t*len(Df))\n",
        "reg.fit(X[:split],yU[:split])"
      ],
      "execution_count": 31,
      "outputs": [
        {
          "output_type": "stream",
          "text": [
            "/usr/local/lib/python3.7/dist-packages/sklearn/model_selection/_search.py:281: UserWarning: The total space of parameters 2 is smaller than n_iter=10. Running 2 iterations. For exhaustive searches, use GridSearchCV.\n",
            "  % (grid_size, self.n_iter, grid_size), UserWarning)\n"
          ],
          "name": "stderr"
        },
        {
          "output_type": "execute_result",
          "data": {
            "text/plain": [
              "RandomizedSearchCV(cv=5, error_score=nan,\n",
              "                   estimator=Pipeline(memory=None,\n",
              "                                      steps=[('imputation',\n",
              "                                              SimpleImputer(add_indicator=False,\n",
              "                                                            copy=True,\n",
              "                                                            fill_value=None,\n",
              "                                                            missing_values=nan,\n",
              "                                                            strategy='most_frequent',\n",
              "                                                            verbose=0)),\n",
              "                                             ('scaler',\n",
              "                                              StandardScaler(copy=True,\n",
              "                                                             with_mean=True,\n",
              "                                                             with_std=True)),\n",
              "                                             ('linear',\n",
              "                                              LinearRegression(copy_X=True,\n",
              "                                                               fit_intercept=True,\n",
              "                                                               n_jobs=None,\n",
              "                                                               normalize=False))],\n",
              "                                      verbose=False),\n",
              "                   iid='deprecated', n_iter=10, n_jobs=None,\n",
              "                   param_distributions={'linear__fit_intercept': [0, 1]},\n",
              "                   pre_dispatch='2*n_jobs', random_state=None, refit=True,\n",
              "                   return_train_score=False, scoring=None, verbose=0)"
            ]
          },
          "metadata": {
            "tags": []
          },
          "execution_count": 31
        }
      ]
    },
    {
      "cell_type": "markdown",
      "metadata": {
        "id": "nkXmnuyHuMjC"
      },
      "source": [
        "## Prediction\n",
        "\n",
        "We will call the `best_params_` function and pass the `linear_fit_intercept` as an argument to it. This is a boolean parameter that can only take either 0 or 1 as its value, indicating False and True, respectively. Please note that there is a double underscore after the word linear, as it indicates that the parameter after the double underscore belongs to the key before the double underscore."
      ]
    },
    {
      "cell_type": "code",
      "metadata": {
        "id": "bEsQ4nxquMjD"
      },
      "source": [
        "best_fit = reg.best_params_['linear__fit_intercept']"
      ],
      "execution_count": 32,
      "outputs": []
    },
    {
      "cell_type": "markdown",
      "metadata": {
        "id": "eam7JIaWuMjD"
      },
      "source": [
        "We will call the `LinearRegression` function and pass the arguments as `fit_intercept = best_fit`, where `best_fit` is the value that decides the intercept parameter for the new instantiation of the `LinearRegression` function."
      ]
    },
    {
      "cell_type": "code",
      "metadata": {
        "id": "Na-9xNI3uMjD"
      },
      "source": [
        "reg = LinearRegression(fit_intercept=best_fit)"
      ],
      "execution_count": 33,
      "outputs": []
    },
    {
      "cell_type": "markdown",
      "metadata": {
        "id": "olmkJrBRuMjD"
      },
      "source": [
        "We will call the imputer function to fill in all the NaN values with the most frequent values."
      ]
    },
    {
      "cell_type": "code",
      "metadata": {
        "id": "IVxkUthJuMjE"
      },
      "source": [
        "X = imp.fit_transform(X,yU)"
      ],
      "execution_count": 34,
      "outputs": []
    },
    {
      "cell_type": "markdown",
      "metadata": {
        "id": "E0rA-6SruMjE"
      },
      "source": [
        "We will fit the linear regression model on the train dataset and predict the upward deviation in the test dataset."
      ]
    },
    {
      "cell_type": "code",
      "metadata": {
        "id": "vy3i4iPnuMjE"
      },
      "source": [
        "reg.fit(X[:split], yU[:split])\n",
        "yU_predict = reg.predict(X[split:])\n",
        "\n",
        "# Assign the predicted values to a new column in the dataframe\n",
        "Df.reset_index(inplace=True)\n",
        "Df['Max_U'] = 0\n",
        "Df.loc[Df.index >= split, 'Max_U'] = yU_predict\n",
        "Df.loc[Df['Max_U'] < 0, 'Max_U'] = 0"
      ],
      "execution_count": 35,
      "outputs": []
    },
    {
      "cell_type": "markdown",
      "metadata": {
        "collapsed": true,
        "id": "PttQaRmluMjE"
      },
      "source": [
        "Similarly, we predict the downward deviation in the test dataset."
      ]
    },
    {
      "cell_type": "code",
      "metadata": {
        "colab": {
          "base_uri": "https://localhost:8080/"
        },
        "id": "Lc5gPPQcuMjE",
        "outputId": "5d16c906-5079-4805-d8a9-a3a99c585341"
      },
      "source": [
        "reg = RandomizedSearchCV(pipeline, parameters, cv=5)\n",
        "reg.fit(X[:split], yD[:split])\n",
        "best_fit = reg.best_params_['linear__fit_intercept']\n",
        "reg = LinearRegression(fit_intercept=best_fit)\n",
        "X = imp.fit_transform(X, yD)\n",
        "reg.fit(X[:split], yD[:split])\n",
        "yD_predict = reg.predict(X[split:])\n",
        "\n",
        "# Assign the predicted values to a new column in the data frame\n",
        "Df['Max_D'] = 0\n",
        "Df.loc[Df.index >= split, 'Max_D'] = yD_predict\n",
        "Df.loc[Df['Max_D'] < 0, 'Max_D'] = 0\n",
        "\n",
        "Df.set_index('Date', inplace=True)"
      ],
      "execution_count": 36,
      "outputs": [
        {
          "output_type": "stream",
          "text": [
            "/usr/local/lib/python3.7/dist-packages/sklearn/model_selection/_search.py:281: UserWarning: The total space of parameters 2 is smaller than n_iter=10. Running 2 iterations. For exhaustive searches, use GridSearchCV.\n",
            "  % (grid_size, self.n_iter, grid_size), UserWarning)\n"
          ],
          "name": "stderr"
        }
      ]
    },
    {
      "cell_type": "markdown",
      "metadata": {
        "id": "gDXx2PUGuMjF"
      },
      "source": [
        "We will use the predicted upside deviation values to calculate the high price and the predicted downside deviation values to calculate the low price."
      ]
    },
    {
      "cell_type": "code",
      "metadata": {
        "colab": {
          "base_uri": "https://localhost:8080/",
          "height": 235
        },
        "id": "omp8WK2-uMjF",
        "outputId": "f335fe0f-29ee-4a2c-9180-964ba728f56f"
      },
      "source": [
        "# We will use the predicted upside deviation values to calculate the high price\n",
        "Df['P_H'] = Df['Open']+Df['Max_U']\n",
        "Df['P_L'] = Df['Open']-Df['Max_D']\n",
        "\n",
        "Df[['High', 'P_H', 'Low', 'P_L']].tail()"
      ],
      "execution_count": 37,
      "outputs": [
        {
          "output_type": "execute_result",
          "data": {
            "text/html": [
              "<div>\n",
              "<style scoped>\n",
              "    .dataframe tbody tr th:only-of-type {\n",
              "        vertical-align: middle;\n",
              "    }\n",
              "\n",
              "    .dataframe tbody tr th {\n",
              "        vertical-align: top;\n",
              "    }\n",
              "\n",
              "    .dataframe thead th {\n",
              "        text-align: right;\n",
              "    }\n",
              "</style>\n",
              "<table border=\"1\" class=\"dataframe\">\n",
              "  <thead>\n",
              "    <tr style=\"text-align: right;\">\n",
              "      <th></th>\n",
              "      <th>High</th>\n",
              "      <th>P_H</th>\n",
              "      <th>Low</th>\n",
              "      <th>P_L</th>\n",
              "    </tr>\n",
              "    <tr>\n",
              "      <th>Date</th>\n",
              "      <th></th>\n",
              "      <th></th>\n",
              "      <th></th>\n",
              "      <th></th>\n",
              "    </tr>\n",
              "  </thead>\n",
              "  <tbody>\n",
              "    <tr>\n",
              "      <th>2021-07-21</th>\n",
              "      <td>66.180000</td>\n",
              "      <td>66.626258</td>\n",
              "      <td>63.730000</td>\n",
              "      <td>63.743184</td>\n",
              "    </tr>\n",
              "    <tr>\n",
              "      <th>2021-07-22</th>\n",
              "      <td>66.279999</td>\n",
              "      <td>66.915840</td>\n",
              "      <td>63.549999</td>\n",
              "      <td>64.168453</td>\n",
              "    </tr>\n",
              "    <tr>\n",
              "      <th>2021-07-23</th>\n",
              "      <td>64.699997</td>\n",
              "      <td>65.666773</td>\n",
              "      <td>63.770000</td>\n",
              "      <td>63.098738</td>\n",
              "    </tr>\n",
              "    <tr>\n",
              "      <th>2021-07-26</th>\n",
              "      <td>64.389999</td>\n",
              "      <td>65.587435</td>\n",
              "      <td>62.160000</td>\n",
              "      <td>63.033649</td>\n",
              "    </tr>\n",
              "    <tr>\n",
              "      <th>2021-07-27</th>\n",
              "      <td>62.775002</td>\n",
              "      <td>62.764332</td>\n",
              "      <td>60.814999</td>\n",
              "      <td>60.427573</td>\n",
              "    </tr>\n",
              "  </tbody>\n",
              "</table>\n",
              "</div>"
            ],
            "text/plain": [
              "                 High        P_H        Low        P_L\n",
              "Date                                                  \n",
              "2021-07-21  66.180000  66.626258  63.730000  63.743184\n",
              "2021-07-22  66.279999  66.915840  63.549999  64.168453\n",
              "2021-07-23  64.699997  65.666773  63.770000  63.098738\n",
              "2021-07-26  64.389999  65.587435  62.160000  63.033649\n",
              "2021-07-27  62.775002  62.764332  60.814999  60.427573"
            ]
          },
          "metadata": {
            "tags": []
          },
          "execution_count": 37
        }
      ]
    },
    {
      "cell_type": "markdown",
      "metadata": {
        "id": "k4fuiGy0uMjF"
      },
      "source": [
        "## Strategy returns\n",
        "\n",
        "We will use the predicted high and predicted low values to determine whether to buy or sell the next day.\n",
        "\n",
        "We will sell when\n",
        "1. The actual high value is greater than the predicted high value and\n",
        "2. The actual low value is greater than the predicted low value\n",
        "\n",
        "We will buy when \n",
        "1. The actual high value is less than the predicted high value and \n",
        "2. The actual low value is less than the predicted low value\n",
        "\n",
        "Next, we will compute the returns and strategy returns."
      ]
    },
    {
      "cell_type": "code",
      "metadata": {
        "id": "5HETuWBLuMjG"
      },
      "source": [
        "# Trading signal\n",
        "Df['Signal'] = 0\n",
        "Df.loc[(Df['High']>Df['P_H']) &(Df['Low']>Df['P_L']),'Signal'] = -1\n",
        "Df.loc[(Df['High']<Df['P_H']) &(Df['Low']<Df['P_L']),'Signal'] = 1\n",
        "\n",
        "# Compute returns \n",
        "Df['Ret'] = (Df['Close']-Df['Close'].shift(1))/Df['Close'].shift(1)\n",
        "\n",
        "# Compute strategy returns(\n",
        "Df['Ret1'] = Df['Ret']*(Df['Signal'].shift(1))"
      ],
      "execution_count": 38,
      "outputs": []
    },
    {
      "cell_type": "markdown",
      "metadata": {
        "id": "Tm8LNizeuMjG"
      },
      "source": [
        "## Plot buy and hold returns vs. strategy returns"
      ]
    },
    {
      "cell_type": "code",
      "metadata": {
        "colab": {
          "base_uri": "https://localhost:8080/",
          "height": 321
        },
        "id": "GWGNypVmuMjG",
        "outputId": "8f07a1c8-6a21-4628-fdc2-0c9726d62150"
      },
      "source": [
        "plt.figure(figsize=(10,5))\n",
        "plt.plot(((Df['Ret'][split:]+1).cumprod()),color='r',label=(stock + ' Returns'))\n",
        "plt.plot(((Df['Ret1'][split:]+1).cumprod()),color='g',label='Strategy Returns')\n",
        "plt.legend()\n",
        "plt.show()"
      ],
      "execution_count": 39,
      "outputs": [
        {
          "output_type": "display_data",
          "data": {
            "image/png": "[encoded data removed]",
            "text/plain": [
              "<Figure size 720x360 with 1 Axes>"
            ]
          },
          "metadata": {
            "tags": [],
            "needs_background": "light"
          }
        }
      ]
    },
    {
      "cell_type": "markdown",
      "metadata": {
        "id": "pZlhKbqSuMjG"
      },
      "source": [
        "## Analyze the performance"
      ]
    },
    {
      "cell_type": "code",
      "metadata": {
        "colab": {
          "base_uri": "https://localhost:8080/"
        },
        "id": "y0Zh1JYeuMjH",
        "outputId": "badbc76b-4ab7-426c-b6d6-aa8a2d53a586"
      },
      "source": [
        "# The below function returns the Sharpe ratio for the excess returns\n",
        "def annualized_sharpe_ratio(returns, N=252):\n",
        "    return np.sqrt(N) * returns.mean() / returns.std()\n",
        "\n",
        "# Calculate the excess daily return by assuming an annual risk free rate of return of 5%\n",
        "excess_daily_strategy_return = Df['Ret1'][split:] - 0.05/252\n",
        "\n",
        "# Calculate the annualized Sharpe ratio\n",
        "sharpe = annualized_sharpe_ratio(excess_daily_strategy_return)\n",
        "print('Sharpe', sharpe)"
      ],
      "execution_count": 40,
      "outputs": [
        {
          "output_type": "stream",
          "text": [
            "Sharpe 0.14712252632672412\n"
          ],
          "name": "stdout"
        }
      ]
    }
  ]
}